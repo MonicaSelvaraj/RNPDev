{
 "cells": [
  {
   "cell_type": "markdown",
   "metadata": {},
   "source": [
    "# Straightening/Normalization "
   ]
  },
  {
   "cell_type": "code",
   "execution_count": 1,
   "metadata": {},
   "outputs": [],
   "source": [
    "from scipy.spatial import distance\n",
    "import ipyvolume as ipv\n",
    "import numpy as np\n",
    "import math\n",
    "import csv"
   ]
  },
  {
   "cell_type": "markdown",
   "metadata": {},
   "source": [
    "### Helper methods"
   ]
  },
  {
   "cell_type": "code",
   "execution_count": 2,
   "metadata": {},
   "outputs": [],
   "source": [
    "'''\n",
    "getPoints - reads file with x,y,z coordinates and returns numpy arrays of each dimension\n",
    "'''\n",
    "def getPoints(filename):\n",
    "    x = list(); y = list(); z = list()\n",
    "    with open (filename, 'r') as csv_file:\n",
    "        csv_reader = csv.reader (csv_file)\n",
    "        for line in csv_reader:\n",
    "            x.append(line[0]); y.append(line[1]); z.append(line[2])\n",
    "    x = np.array(x, dtype = float); y = np.array(y, dtype = float); z = np.array(z, dtype = float)\n",
    "    return (x, y, z)\n",
    "\n",
    "'''\n",
    "Input: a is the point for which you want to find the nearest neighbor \n",
    "P is the set of available points to find the nearest neighbor from \n",
    "\n",
    "returns p - position/index of the nearest neighbor \n",
    "d - distance between a and its nearest neighbor \n",
    "'''\n",
    "def nearestNeighbor(a,P):\n",
    "    d = 10000; p = -1\n",
    "    for i in range(0, len(P)):\n",
    "        currdist = distance.euclidean(a,P[i])\n",
    "        if(currdist<d): \n",
    "            d = currdist\n",
    "            p = i\n",
    "    return(p,d)\n",
    "\n",
    "'''\n",
    "Swaps elements in positions a and b in a given list P\n",
    "'''\n",
    "def swap(P,a,b):\n",
    "    temp = np.copy(P[a])\n",
    "    P[a] = P[b] \n",
    "    P[b] = temp\n",
    "    return P\n",
    "\n",
    "'''\n",
    "RankPC - ranks the points on the principal curve from start to end \n",
    "Input: x,y,z coordinates of points on the principal curve \n",
    "'''\n",
    "def RankPC(x,y,z):\n",
    "    P = np.concatenate((x[:, np.newaxis],\n",
    "                       y[:, np.newaxis], \n",
    "                       z[:, np.newaxis]),\n",
    "                    axis=1)\n",
    "    lenP = len(P)\n",
    "    \n",
    "    #Finding the nearest neighbor of the first point - P0 and moving it to position P1\n",
    "    p, d = nearestNeighbor(P[0],P[1:lenP])\n",
    "    p+=1 #Didn't consider the 0th element while finding the position of the nearest neighbor \n",
    "    P = swap(P,1,p)\n",
    "\n",
    "    j = 1\n",
    "    while j<lenP-1:\n",
    "        p0,d0 = nearestNeighbor(P[0],P[j+1:lenP]) #Finding the nearest neighbor of P0 in the remaining elements \n",
    "        p0 = p0+j+1\n",
    "        pj,dj = nearestNeighbor(P[j], P[j+1:lenP]) #Finding the nearest neighbor of Pj in the remaining elements \n",
    "        pj = pj+j+1\n",
    "        \n",
    "        if(p0 == pj):#If they both have the same nearest neighbor\n",
    "            if(d0 < dj): #If the nearest neighbor is closest to P0\n",
    "                #Add the nearest neighbor to the beginning of P, and delete it from its original location \n",
    "                P = np.insert(P, 0, P[p0], axis=0); P = np.delete(P, p0+1, 0)\n",
    "            else: #Else swap positions pj with j+1\n",
    "                P = swap(P,j+1,pj)  \n",
    "            j+=1 #incrementing by one because only one side gets an additional element \n",
    "        else: #If their nearest neighbors are different then adding both \n",
    "            P = swap(P,j+1,pj) #Swapping does not change p0\n",
    "            P = np.insert(P, 0, P[p0], axis=0)\n",
    "            P = np.delete(P, p0+1, 0)\n",
    "            j+=2 #incrementing by two because both sides get additional elements \n",
    "    \n",
    "    P = np.hsplit(P, 3)\n",
    "    xr = np.concatenate(P[0], axis=0)\n",
    "    yr = np.concatenate(P[1], axis=0)\n",
    "    zr = np.concatenate(P[2], axis=0)\n",
    "    return (xr, yr, zr)\n",
    "\n",
    "def Display(a):\n",
    "    fig = ipv.figure()\n",
    "    ipv.style.use('dark')\n",
    "    scatter1 = ipv.scatter(a[0][0:150],a[1][0:150],a[2][0:150],marker = 'sphere', color = 'blue')\n",
    "    scatter2 = ipv.scatter(a[0][150:300],a[1][150:300],a[2][150:300],marker = 'sphere', color = 'green')\n",
    "    scatter3 = ipv.scatter(a[0][300:450],a[1][300:450],a[2][300:450],marker = 'sphere', color = 'orange')\n",
    "    scatter4 = ipv.scatter(a[0][450:600],a[1][450:600],a[2][450:600],marker = 'sphere', color = 'yellow')\n",
    "    ipv.show()\n",
    "    return()\n",
    "\n",
    "'''\n",
    "This function returns the rotation matrix that rotates unit vector a onto unit vector b \n",
    "Source: https://math.stackexchange.com/questions/180418/calculate-rotation-matrix-to-align-vector-a-to-vector-b-in-3d/897677#897677\n",
    "\n",
    "'''\n",
    "def R(a, b):\n",
    "    v = np.cross(a,b)\n",
    "    s = np.linalg.norm(v)\n",
    "    c = np.dot(a,b)\n",
    "    I = np.identity(3)\n",
    "    if(s == 0): return I #Angle between vectors is zero\n",
    "    vXStr = '{} {} {}; {} {} {}; {} {} {}'.format(0, -v[2], v[1], v[2], 0, -v[0], -v[1], v[0], 0)\n",
    "    vx = np.matrix(vXStr)\n",
    "    Rot = I + vx + np.matmul(vx, vx) * ((1 -c)/(s**2))\n",
    "    return (Rot)\n",
    "\n",
    "'''\n",
    "args: Ranked PC points\n",
    "returns - three vectors defining the axes for every point on the principal curve \n",
    "\n",
    "- Finds a vector between consecutive points on the curve\n",
    "- For the first vector, defines two orthogonal vectors - this makes up the new axes for that point\n",
    "- Going to the next vector, between the next set of points on the curve, and finding the rotation matrix between the two vectors\n",
    "- Rotating the other two orthogonal axes by the same rotation matrix - this defines the new axes at this point\n",
    "'''\n",
    "def Axes(CurvePts):\n",
    "    #Storing the points of the principal cuve - the points are ordered \n",
    "    x = list(); y = list(); z = list()\n",
    "    x = CurvePts[0]; y = CurvePts[1]; z = CurvePts[2]\n",
    "\n",
    "    #Finding the axes for each set of consecutive points on the curve\n",
    "    xAxes = list(); yAxes= list(); zAxes = list()\n",
    "\n",
    "    for i in range(0, len(x)-1):\n",
    "        \n",
    "        #Finding the current z vector \n",
    "        zA = ([(x[i+1] - x[i]), (y[i+1] - y[i]), (z[i+1] - z[i])])\n",
    "        zA = (zA/np.linalg.norm(zA))\n",
    "        zAxes.append(zA)\n",
    "        \n",
    "        if( i == 0): #Defining two orthogonal axes for the first z axis\n",
    "            \n",
    "            #Defining the new x axis using the fact that the dot product between two orthogonal vectors is zero\n",
    "            xA = [1,1, ((1*zA[0])+(1*zA[1]))/ (-zA[2])]\n",
    "            xAxes.append(xA/np.linalg.norm(xA))\n",
    "\n",
    "            #Defining the new y axis using the fact that the cross product between two vectors is an orthogonal vector\n",
    "            yA = np.cross(xAxes[0], zA)\n",
    "            yAxes.append(yA/np.linalg.norm(yA))\n",
    "    \n",
    "        else: #Finding the rotation matrix between the current z vector and the old z vector, and rotating the old x and y vectors by the same amount to find new vectors \n",
    "            Rot = R(zA, (zAxes[i-1]))\n",
    "    \n",
    "            #Rotating the previous x and y axes vectors by the same rotation matrix to find the new axes\n",
    "            xA = np.matmul(Rot, np.squeeze(np.asarray(xAxes[i-1])))#converting the matrix to array before using for rotation\n",
    "            xAxes.append(np.squeeze(np.asarray(xA/np.linalg.norm(xA))))\n",
    "\n",
    "            yA = np.matmul(Rot, np.squeeze(np.asarray(yAxes[i-1])))\n",
    "            yAxes.append(np.squeeze(np.asarray(yA/np.linalg.norm(yA))))\n",
    "\n",
    "    #Defining the axes for the last point to be the same as the second to last point    \n",
    "    xAxes.append(np.squeeze(np.asarray(xA/np.linalg.norm(xA))))\n",
    "    yAxes.append(np.squeeze(np.asarray(yA/np.linalg.norm(yA))))\n",
    "    zAxes.append(zA)\n",
    "    return(xAxes, yAxes, zAxes)\n",
    " \n",
    "'''\n",
    "Given points on a PC,\n",
    "1. Finds how many points are available \n",
    "2. picks 50 points at equal intervals\n",
    "'''\n",
    "def pick50points(x,y,z):\n",
    "    interval = math.ceil(len(x)/50)\n",
    "    i = 0\n",
    "    newx = list(); newy = list();newz = list()\n",
    "    while(i<len(x)):\n",
    "        newx.append(x[i])\n",
    "        newy.append(y[i])\n",
    "        newz.append(z[i])\n",
    "        i+=interval\n",
    "        \n",
    "    newx = np.array(newx, dtype = float); newy = np.array(newy, dtype = float); newz = np.array(newz, dtype = float)\n",
    "    return(newx, newy, newz)\n",
    "\n",
    "'''\n",
    "args - x,y,z: Coordinates of RNP's, PC - points on the principal curve\n",
    "\n",
    "'''\n",
    "def GroupRNP(x,y,z,PC):\n",
    "    return ()"
   ]
  },
  {
   "cell_type": "markdown",
   "metadata": {},
   "source": [
    "### Main"
   ]
  },
  {
   "cell_type": "code",
   "execution_count": 3,
   "metadata": {},
   "outputs": [],
   "source": [
    "#Reading the principal curve points from file\n",
    "PCpoints = getPoints('fitpoints.csv')\n",
    "\n",
    "#Ranking PC points \n",
    "PCranked = RankPC(PCpoints[0],PCpoints[1],PCpoints[2])\n",
    "\n",
    "#Picking 50 points of the ranked PC points \n",
    "PC50 = pick50points(PCranked[0],PCranked[1],PCranked[2])\n",
    "\n",
    "#Defining axes for those 50 points \n",
    "axes = Axes(PC50)\n",
    "\n",
    "#Reshaping arrays for plotting axes \n",
    "xv = np.vstack(axes[0]); yv = np.vstack(axes[1]);zv = np.vstack(axes[2])\n",
    "xh = np.hsplit(xv, 3); yh = np.hsplit(yv, 3); zh = np.hsplit(zv, 3)\n",
    "xx = np.concatenate(xh[0], axis=0); xy = np.concatenate(xh[1], axis=0); xz = np.concatenate(xh[2], axis=0)\n",
    "yx = np.concatenate(yh[0], axis=0); yy = np.concatenate(yh[1], axis=0); yz = np.concatenate(yh[2], axis=0)\n",
    "zx = np.concatenate(zh[0], axis=0); zy = np.concatenate(zh[1], axis=0); zz = np.concatenate(zh[2], axis=0)"
   ]
  },
  {
   "cell_type": "markdown",
   "metadata": {},
   "source": [
    "### Vizualization"
   ]
  },
  {
   "cell_type": "code",
   "execution_count": 4,
   "metadata": {},
   "outputs": [
    {
     "data": {
      "application/vnd.jupyter.widget-view+json": {
       "model_id": "c0cd0b1a1ad94654a47ff7cde226998a",
       "version_major": 2,
       "version_minor": 0
      },
      "text/plain": [
       "VBox(children=(Figure(camera=PerspectiveCamera(fov=46.0, position=(0.0, 0.0, 2.0), quaternion=(0.0, 0.0, 0.0, …"
      ]
     },
     "metadata": {},
     "output_type": "display_data"
    },
    {
     "data": {
      "application/vnd.jupyter.widget-view+json": {
       "model_id": "540a6d80188e411199ee62f583a276ff",
       "version_major": 2,
       "version_minor": 0
      },
      "text/plain": [
       "VBox(children=(Figure(camera=PerspectiveCamera(fov=46.0, position=(0.0, 0.0, 2.0), quaternion=(0.0, 0.0, 0.0, …"
      ]
     },
     "metadata": {},
     "output_type": "display_data"
    },
    {
     "data": {
      "text/plain": [
       "()"
      ]
     },
     "execution_count": 4,
     "metadata": {},
     "output_type": "execute_result"
    }
   ],
   "source": [
    "#Viz for ranking \n",
    "#Before \n",
    "Display(PCpoints)\n",
    "\n",
    "#After \n",
    "Display(PCranked)"
   ]
  },
  {
   "cell_type": "code",
   "execution_count": 6,
   "metadata": {},
   "outputs": [
    {
     "data": {
      "application/vnd.jupyter.widget-view+json": {
       "model_id": "624ad6708a404b02b90d674f36496286",
       "version_major": 2,
       "version_minor": 0
      },
      "text/plain": [
       "VBox(children=(Figure(camera=PerspectiveCamera(fov=46.0, position=(0.0, 0.0, 2.0), quaternion=(0.0, 0.0, 0.0, …"
      ]
     },
     "metadata": {},
     "output_type": "display_data"
    },
    {
     "data": {
      "application/vnd.jupyter.widget-view+json": {
       "model_id": "ca62b89be086404a9f1a46dc65ff3065",
       "version_major": 2,
       "version_minor": 0
      },
      "text/plain": [
       "VBox(children=(Figure(camera=PerspectiveCamera(fov=46.0, position=(0.0, 0.0, 2.0), quaternion=(0.0, 0.0, 0.0, …"
      ]
     },
     "metadata": {},
     "output_type": "display_data"
    },
    {
     "data": {
      "application/vnd.jupyter.widget-view+json": {
       "model_id": "5cb357df6c704ab98ab574dcbdcb5e18",
       "version_major": 2,
       "version_minor": 0
      },
      "text/plain": [
       "VBox(children=(Figure(camera=PerspectiveCamera(fov=46.0, position=(0.0, 0.0, 2.0), quaternion=(0.0, 0.0, 0.0, …"
      ]
     },
     "metadata": {},
     "output_type": "display_data"
    }
   ],
   "source": [
    "#Viz for axes \n",
    "#Fig 1 - All PC points\n",
    "fig = ipv.figure()\n",
    "scatter = ipv.scatter(PCranked[0],PCranked[1],PCranked[2],marker = 'sphere', color = 'blue')\n",
    "ipv.show()\n",
    "#Fig 2 - 50 PC points\n",
    "fig = ipv.figure()\n",
    "scatter = ipv.scatter(PC50[0],PC50[1],PC50[2],marker = 'sphere', color = 'yellow')\n",
    "ipv.show()\n",
    "#Fig 3 - PC points with axes\n",
    "fig = ipv.figure()\n",
    "scatter = ipv.scatter(PC50[0],PC50[1],PC50[2],marker = 'sphere', color = 'yellow')\n",
    "quiver = ipv.quiver(PC50[0],PC50[1],PC50[2],xx,xy,xz, size = 4)\n",
    "quiver = ipv.quiver(PC50[0],PC50[1],PC50[2],yx,yy,yz, size = 4)\n",
    "quiver = ipv.quiver(PC50[0],PC50[1],PC50[2],zx,zy,zz, size = 4)\n",
    "ipv.show()"
   ]
  },
  {
   "cell_type": "code",
   "execution_count": null,
   "metadata": {},
   "outputs": [],
   "source": []
  }
 ],
 "metadata": {
  "kernelspec": {
   "display_name": "Python 3",
   "language": "python",
   "name": "python3"
  },
  "language_info": {
   "codemirror_mode": {
    "name": "ipython",
    "version": 3
   },
   "file_extension": ".py",
   "mimetype": "text/x-python",
   "name": "python",
   "nbconvert_exporter": "python",
   "pygments_lexer": "ipython3",
   "version": "3.6.5"
  }
 },
 "nbformat": 4,
 "nbformat_minor": 2
}
