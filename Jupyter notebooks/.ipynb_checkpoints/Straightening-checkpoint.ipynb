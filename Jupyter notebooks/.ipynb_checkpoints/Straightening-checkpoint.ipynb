{
 "cells": [
  {
   "cell_type": "markdown",
   "metadata": {},
   "source": [
    "# Straightening/Normalization "
   ]
  },
  {
   "cell_type": "code",
   "execution_count": 26,
   "metadata": {},
   "outputs": [],
   "source": [
    "from scipy.spatial import distance\n",
    "import ipyvolume as ipv\n",
    "import numpy as np\n",
    "import math\n",
    "import csv"
   ]
  },
  {
   "cell_type": "markdown",
   "metadata": {},
   "source": [
    "### Helper methods"
   ]
  },
  {
   "cell_type": "code",
   "execution_count": 30,
   "metadata": {},
   "outputs": [],
   "source": [
    "'''\n",
    "getPoints - reads file with x,y,z coordinates and returns numpy arrays of each dimension\n",
    "'''\n",
    "def getPoints(filename):\n",
    "    x = list(); y = list(); z = list()\n",
    "    with open (filename, 'r') as csv_file:\n",
    "        csv_reader = csv.reader (csv_file)\n",
    "        for line in csv_reader:\n",
    "            x.append(line[0]); y.append(line[1]); z.append(line[2])\n",
    "    x = np.array(x, dtype = float); y = np.array(y, dtype = float); z = np.array(z, dtype = float)\n",
    "    return (x, y, z)\n",
    "\n",
    "'''\n",
    "Input: a is the point for which you want to find the nearest neighbor \n",
    "P is the set of available points to find the nearest neighbor from \n",
    "\n",
    "returns p - position/index of the nearest neighbor \n",
    "d - distance between a and its nearest neighbor \n",
    "'''\n",
    "def nearestNeighbor(a,P):\n",
    "    d = 10000; p = -1\n",
    "    for i in range(0, len(P)):\n",
    "        currdist = distance.euclidean(a,P[i])\n",
    "        if(currdist<d): \n",
    "            d = currdist\n",
    "            p = i\n",
    "    return(p,d)\n",
    "\n",
    "'''\n",
    "Swaps elements in positions a and b in a given list P\n",
    "'''\n",
    "def swap(P,a,b):\n",
    "    temp = np.copy(P[a])\n",
    "    P[a] = P[b] \n",
    "    P[b] = temp\n",
    "    return P\n",
    "\n",
    "'''\n",
    "RankPC - ranks the points on the principal curve from start to end \n",
    "Input: x,y,z coordinates of points on the principal curve \n",
    "'''\n",
    "def RankPC(x,y,z):\n",
    "    P = np.concatenate((x[:, np.newaxis],\n",
    "                       y[:, np.newaxis], \n",
    "                       z[:, np.newaxis]),\n",
    "                    axis=1)\n",
    "    lenP = len(P)\n",
    "    \n",
    "    #Finding the nearest neighbor of the first point - P0 and moving it to position P1\n",
    "    p, d = nearestNeighbor(P[0],P[1:lenP])\n",
    "    p+=1 #Didn't consider the 0th element while finding the position of the nearest neighbor \n",
    "    P = swap(P,1,p)\n",
    "\n",
    "    j = 1\n",
    "    while j<lenP-1:\n",
    "        p0,d0 = nearestNeighbor(P[0],P[j+1:lenP]) #Finding the nearest neighbor of P0 in the remaining elements \n",
    "        p0 = p0+j+1\n",
    "        pj,dj = nearestNeighbor(P[j], P[j+1:lenP]) #Finding the nearest neighbor of Pj in the remaining elements \n",
    "        pj = pj+j+1\n",
    "        \n",
    "        if(p0 == pj):#If they both have the same nearest neighbor\n",
    "            if(d0 < dj): #If the nearest neighbor is closest to P0\n",
    "                #Add the nearest neighbor to the beginning of P, and delete it from its original location \n",
    "                P = np.insert(P, 0, P[p0], axis=0); P = np.delete(P, p0+1, 0)\n",
    "            else: #Else swap positions pj with j+1\n",
    "                P = swap(P,j+1,pj)  \n",
    "            j+=1 #incrementing by one because only one side gets an additional element \n",
    "        else: #If their nearest neighbors are different then adding both \n",
    "            P = swap(P,j+1,pj) #Swapping does not change p0\n",
    "            P = np.insert(P, 0, P[p0], axis=0)\n",
    "            P = np.delete(P, p0+1, 0)\n",
    "            j+=2 #incrementing by two because both sides get additional elements \n",
    "    \n",
    "    P = np.hsplit(P, 3)\n",
    "    xr = np.concatenate(P[0], axis=0)\n",
    "    yr = np.concatenate(P[1], axis=0)\n",
    "    zr = np.concatenate(P[2], axis=0)\n",
    "    return (xr, yr, zr)\n",
    "\n",
    "def Display(a):\n",
    "    fig = ipv.figure()\n",
    "    ipv.style.use('dark')\n",
    "    scatter1 = ipv.scatter(a[0][0:150],a[1][0:150],a[2][0:150],marker = 'sphere', color = 'blue')\n",
    "    scatter2 = ipv.scatter(a[0][150:300],a[1][150:300],a[2][150:300],marker = 'sphere', color = 'green')\n",
    "    scatter3 = ipv.scatter(a[0][300:450],a[1][300:450],a[2][300:450],marker = 'sphere', color = 'orange')\n",
    "    scatter4 = ipv.scatter(a[0][450:600],a[1][450:600],a[2][450:600],marker = 'sphere', color = 'yellow')\n",
    "    ipv.show()\n",
    "    return()\n",
    "\n",
    "'''\n",
    "This function returns the rotation matrix that rotates unit vector a onto unit vector b \n",
    "Source: https://math.stackexchange.com/questions/180418/calculate-rotation-matrix-to-align-vector-a-to-vector-b-in-3d/897677#897677\n",
    "\n",
    "'''\n",
    "def R(a, b):\n",
    "    v = np.cross(a,b)\n",
    "    s = np.linalg.norm(v)\n",
    "    c = np.dot(a,b)\n",
    "    I = np.identity(3)\n",
    "    if(s == 0): return I #Angle between vectors is zero\n",
    "    vXStr = '{} {} {}; {} {} {}; {} {} {}'.format(0, -v[2], v[1], v[2], 0, -v[0], -v[1], v[0], 0)\n",
    "    vx = np.matrix(vXStr)\n",
    "    Rot = I + vx + np.matmul(vx, vx) * ((1 -c)/(s**2))\n",
    "    return (Rot)\n",
    "\n",
    "'''\n",
    "args: Ranked PC points\n",
    "returns - three vectors defining the axes for every point on the principal curve \n",
    "\n",
    "- Finds a vector between consecutive points on the curve\n",
    "- For the first vector, defines two orthogonal vectors - this makes up the new axes for that point\n",
    "- Going to the next vector, between the next set of points on the curve, and finding the rotation matrix between the two vectors\n",
    "- Rotating the other two orthogonal axes by the same rotation matrix - this defines the new axes at this point\n",
    "'''\n",
    "def Axes(CurvePts):\n",
    "    #Storing the points of the principal cuve - the points are ordered \n",
    "    x = list(); y = list(); z = list()\n",
    "    x = CurvePts[0]; y = CurvePts[1]; z = CurvePts[2]\n",
    "\n",
    "    #Finding the axes for each set of consecutive points on the curve\n",
    "    xAxes = list(); yAxes= list(); zAxes = list()\n",
    "\n",
    "    for i in range(0, len(x)-1):\n",
    "        \n",
    "        #Finding the current z vector \n",
    "        zA = ([(x[i+1] - x[i]), (y[i+1] - y[i]), (z[i+1] - z[i])])\n",
    "        zA = (zA/np.linalg.norm(zA))\n",
    "        zAxes.append(zA)\n",
    "        \n",
    "        if( i == 0): #Defining two orthogonal axes for the first z axis\n",
    "            \n",
    "            #Defining the new x axis using the fact that the dot product between two orthogonal vectors is zero\n",
    "            xA = [1,1, ((1*zA[0])+(1*zA[1]))/ (-zA[2])]\n",
    "            xAxes.append(xA/np.linalg.norm(xA))\n",
    "\n",
    "            #Defining the new y axis using the fact that the cross product between two vectors is an orthogonal vector\n",
    "            yA = np.cross(xAxes[0], zA)\n",
    "            yAxes.append(yA/np.linalg.norm(yA))\n",
    "    \n",
    "        else: #Finding the rotation matrix between the current z vector and the old z vector, and rotating the old x and y vectors by the same amount to find new vectors \n",
    "            Rot = R(zA, (zAxes[i-1]))\n",
    "    \n",
    "            #Rotating the previous x and y axes vectors by the same rotation matrix to find the new axes\n",
    "            xA = np.matmul(Rot, np.squeeze(np.asarray(xAxes[i-1])))#converting the matrix to array before using for rotation\n",
    "            xAxes.append(np.squeeze(np.asarray(xA/np.linalg.norm(xA))))\n",
    "\n",
    "            yA = np.matmul(Rot, np.squeeze(np.asarray(yAxes[i-1])))\n",
    "            yAxes.append(np.squeeze(np.asarray(yA/np.linalg.norm(yA))))\n",
    "\n",
    "    #Defining the axes for the last point to be the same as the second to last point    \n",
    "    xAxes.append(np.squeeze(np.asarray(xA/np.linalg.norm(xA))))\n",
    "    yAxes.append(np.squeeze(np.asarray(yA/np.linalg.norm(yA))))\n",
    "    zAxes.append(zA)\n",
    "    return(xAxes, yAxes, zAxes)\n",
    " \n",
    "'''\n",
    "Given points on a PC,\n",
    "1. Finds how many points are available \n",
    "2. picks 50 points at equal intervals\n",
    "'''\n",
    "def pick50points(x,y,z):\n",
    "    interval = math.ceil(len(x)/50)\n",
    "    i = 0\n",
    "    newx = list(); newy = list();newz = list()\n",
    "    while(i<len(x)):\n",
    "        newx.append(x[i])\n",
    "        newy.append(y[i])\n",
    "        newz.append(z[i])\n",
    "        i+=interval\n",
    "        \n",
    "    newx = np.array(newx, dtype = float); newy = np.array(newy, dtype = float); newz = np.array(newz, dtype = float)\n",
    "    return(newx, newy, newz)\n",
    "\n",
    "'''\n",
    "args - Points on the curve, x,y,z coordinates\n",
    "returns - For each data point, point on curve to project onto\n",
    "'''\n",
    "def pointToProject(CurvePts, x,y,z):\n",
    "    xC = list(); yC = list(); zC = list()\n",
    "    xC = CurvePts[0]; yC = CurvePts[1]; zC = CurvePts[2]\n",
    "    #Creating a list of the index of the point on the line that each x,y,z is closets to\n",
    "    closestPointPos = 0; i=0; j=0; indexOfClosestPoints = list()\n",
    "    for i in range (0, len(x)): #looping through all the x,y,z coordinates\n",
    "        mindst = 10000 #Setting an upper limit on the minimum distance \n",
    "        for j in range(0, len(xC)): #For every coordinate, looping through each point on the line\n",
    "            a = (x[i], y[i], z[i])\n",
    "            b = (xC[j], yC[j], zC[j])\n",
    "            if (distance.euclidean(a,b)) < mindst:\n",
    "                mindst = (distance.euclidean(a,b))\n",
    "                closestPointPos = j\n",
    "        indexOfClosestPoints.append(closestPointPos)\n",
    "    return (indexOfClosestPoints)\n",
    "\n",
    "'''\n",
    "args - Points on the curve, x,y,z coordinates\n",
    "returns - straightened points\n",
    "\n",
    "For every data point, projects it onto the axes of the point on the curve determined from 'pointToProject'\n",
    "Find the point that comes first in the curve between the two points\n",
    "Project the data point on the axes of that point to get the new points\n",
    "'''\n",
    "def Straighten(CurvePts, xAxis, yAxis, zAxis, x,y,z):\n",
    "    xPoints = list(); yPoints = list(); zPoints = list()\n",
    "    xPoints = CurvePts[0]; yPoints = CurvePts[1]; zPoints = CurvePts[2]\n",
    "    \n",
    "    #Finding the distance between every pair of points and storing the cumulative distances to get to that point \n",
    "    linePtsDistances = list()\n",
    "    cumulativeDistance = 0 #Keeps track of cumulative distance till that point\n",
    "    linePtsDistances.append(0) #Don't have to add anything for the first point \n",
    "    for i in range (0, len(xPoints)-1,1):\n",
    "        a = (xPoints[i], yPoints[i], zPoints[i])\n",
    "        b = (xPoints[i+1], yPoints[i+1], zPoints[i+1])\n",
    "        dst = distance.euclidean(a,b)\n",
    "        cumulativeDistance = cumulativeDistance + dst\n",
    "        linePtsDistances.append(cumulativeDistance)\n",
    "\n",
    "    p = pointToProject(CurvePts, x,y,z) #list of points onto which each data point should be projected onto\n",
    "    sx = list(); sy = list(); sz = list()\n",
    "    for i in range(0, len(x)-1):\n",
    "        sx.append(np.dot([x[i], y[i], z[i]], xAxis[p[i]]))\n",
    "        sy.append(np.dot([x[i], y[i], z[i]], yAxis[p[i]]))\n",
    "        sz.append(np.dot([x[i], y[i], z[i]], zAxis[p[i]]) + linePtsDistances[p[i]])\n",
    "    \n",
    "    sx = np.array(sx, dtype = float); sy = np.array(sy, dtype = float); sz = np.array(sz, dtype = float)\n",
    "    return(sx, sy, sz)"
   ]
  },
  {
   "cell_type": "markdown",
   "metadata": {},
   "source": [
    "### Main"
   ]
  },
  {
   "cell_type": "code",
   "execution_count": 31,
   "metadata": {},
   "outputs": [],
   "source": [
    "#Reading the principal curve points from file\n",
    "PCpoints = getPoints('fitpoints.csv')\n",
    "\n",
    "#Reading RNP coordinates from file \n",
    "RNPCoordinates = getPoints('RNPCoordinates.csv')\n",
    "\n",
    "#Ranking PC points \n",
    "PCranked = RankPC(PCpoints[0],PCpoints[1],PCpoints[2])\n",
    "\n",
    "#Picking 50 points of the ranked PC points \n",
    "PC50 = pick50points(PCranked[0],PCranked[1],PCranked[2])\n",
    "\n",
    "#Defining axes for those 50 points \n",
    "axes = Axes(PC50)\n",
    "\n",
    "#Reshaping arrays for plotting axes \n",
    "xv = np.vstack(axes[0]); yv = np.vstack(axes[1]);zv = np.vstack(axes[2])\n",
    "xh = np.hsplit(xv, 3); yh = np.hsplit(yv, 3); zh = np.hsplit(zv, 3)\n",
    "xx = np.concatenate(xh[0], axis=0); xy = np.concatenate(xh[1], axis=0); xz = np.concatenate(xh[2], axis=0)\n",
    "yx = np.concatenate(yh[0], axis=0); yy = np.concatenate(yh[1], axis=0); yz = np.concatenate(yh[2], axis=0)\n",
    "zx = np.concatenate(zh[0], axis=0); zy = np.concatenate(zh[1], axis=0); zz = np.concatenate(zh[2], axis=0)\n",
    "\n",
    "StraightRNP = Straighten(PC50, xv, yv, zv, RNPCoordinates[0],RNPCoordinates[1],RNPCoordinates[2])"
   ]
  },
  {
   "cell_type": "markdown",
   "metadata": {},
   "source": [
    "### Vizualization"
   ]
  },
  {
   "cell_type": "code",
   "execution_count": 32,
   "metadata": {
    "scrolled": false
   },
   "outputs": [
    {
     "data": {
      "application/vnd.jupyter.widget-view+json": {
       "model_id": "4695310a56df4c40b8d538b99ec95869",
       "version_major": 2,
       "version_minor": 0
      },
      "text/plain": [
       "VBox(children=(Figure(camera=PerspectiveCamera(fov=46.0, position=(0.0, 0.0, 2.0), quaternion=(0.0, 0.0, 0.0, …"
      ]
     },
     "metadata": {},
     "output_type": "display_data"
    },
    {
     "data": {
      "application/vnd.jupyter.widget-view+json": {
       "model_id": "8ae9b763716249ebae6d5fc56d91234e",
       "version_major": 2,
       "version_minor": 0
      },
      "text/plain": [
       "VBox(children=(Figure(camera=PerspectiveCamera(fov=46.0, position=(0.0, 0.0, 2.0), quaternion=(0.0, 0.0, 0.0, …"
      ]
     },
     "metadata": {},
     "output_type": "display_data"
    },
    {
     "data": {
      "application/vnd.jupyter.widget-view+json": {
       "model_id": "8926c224691244b79046ebcebb9568a3",
       "version_major": 2,
       "version_minor": 0
      },
      "text/plain": [
       "VBox(children=(Figure(camera=PerspectiveCamera(fov=46.0, position=(0.0, 0.0, 2.0), quaternion=(0.0, 0.0, 0.0, …"
      ]
     },
     "metadata": {},
     "output_type": "display_data"
    },
    {
     "data": {
      "application/vnd.jupyter.widget-view+json": {
       "model_id": "17bc64a3a9564764b6689c1b9fcfa04b",
       "version_major": 2,
       "version_minor": 0
      },
      "text/plain": [
       "VBox(children=(Figure(camera=PerspectiveCamera(fov=46.0, position=(0.0, 0.0, 2.0), quaternion=(0.0, 0.0, 0.0, …"
      ]
     },
     "metadata": {},
     "output_type": "display_data"
    },
    {
     "data": {
      "application/vnd.jupyter.widget-view+json": {
       "model_id": "cb974218a72b4c45a83cc8a9e561566f",
       "version_major": 2,
       "version_minor": 0
      },
      "text/plain": [
       "VBox(children=(Figure(camera=PerspectiveCamera(fov=46.0, position=(0.0, 0.0, 2.0), quaternion=(0.0, 0.0, 0.0, …"
      ]
     },
     "metadata": {},
     "output_type": "display_data"
    },
    {
     "data": {
      "application/vnd.jupyter.widget-view+json": {
       "model_id": "f6027effdd9a40e9af2a496ffd157077",
       "version_major": 2,
       "version_minor": 0
      },
      "text/plain": [
       "VBox(children=(Figure(camera=PerspectiveCamera(fov=46.0, position=(0.0, 0.0, 2.0), quaternion=(0.0, 0.0, 0.0, …"
      ]
     },
     "metadata": {},
     "output_type": "display_data"
    },
    {
     "data": {
      "application/vnd.jupyter.widget-view+json": {
       "model_id": "f092abdfc9ca4a2ca507f065232e233a",
       "version_major": 2,
       "version_minor": 0
      },
      "text/plain": [
       "VBox(children=(Figure(camera=PerspectiveCamera(fov=46.0, position=(0.0, 0.0, 2.0), quaternion=(0.0, 0.0, 0.0, …"
      ]
     },
     "metadata": {},
     "output_type": "display_data"
    }
   ],
   "source": [
    "#Viz - RNP coordinates with curve\n",
    "fig = ipv.figure()\n",
    "ipv.style.use('dark')\n",
    "scatter = ipv.scatter(PCpoints[0],PCpoints[1],PCpoints[2],marker = 'sphere', color = 'blue')\n",
    "scatter = ipv.scatter(RNPCoordinates[0],RNPCoordinates[1],RNPCoordinates[2],marker = 'sphere', color = 'green')\n",
    "ipv.show()\n",
    "\n",
    "#Viz for ranking \n",
    "#F1: Before\n",
    "fig = ipv.figure()\n",
    "ipv.style.use('dark')\n",
    "scatter1 = ipv.scatter(PCpoints[0][0:150],PCpoints[1][0:150],PCpoints[2][0:150],marker = 'sphere', color = 'blue')\n",
    "scatter2 = ipv.scatter(PCpoints[0][150:300],PCpoints[1][150:300],PCpoints[2][150:300],marker = 'sphere', color = 'green')\n",
    "scatter3 = ipv.scatter(PCpoints[0][300:450],PCpoints[1][300:450],PCpoints[2][300:450],marker = 'sphere', color = 'orange')\n",
    "scatter4 = ipv.scatter(PCpoints[0][450:600],PCpoints[1][450:600],PCpoints[2][450:600],marker = 'sphere', color = 'yellow')\n",
    "ipv.show()\n",
    "#ipv.save('StraighteningF1.html')\n",
    "\n",
    "#F2: After \n",
    "fig = ipv.figure()\n",
    "ipv.style.use('dark')\n",
    "scatter1 = ipv.scatter(PCranked[0][0:150],PCranked[1][0:150],PCranked[2][0:150],marker = 'sphere', color = 'blue')\n",
    "scatter2 = ipv.scatter(PCranked[0][150:300],PCranked[1][150:300],PCranked[2][150:300],marker = 'sphere', color = 'green')\n",
    "scatter3 = ipv.scatter(PCranked[0][300:450],PCranked[1][300:450],PCranked[2][300:450],marker = 'sphere', color = 'orange')\n",
    "scatter4 = ipv.scatter(PCranked[0][450:600],PCranked[1][450:600],PCranked[2][450:600],marker = 'sphere', color = 'yellow')\n",
    "ipv.show()\n",
    "#ipv.save('StraighteningF2.html')\n",
    "\n",
    "#Viz for axes \n",
    "#Fig 1 - All PC points\n",
    "fig = ipv.figure()\n",
    "scatter = ipv.scatter(PCranked[0],PCranked[1],PCranked[2],marker = 'sphere', color = 'blue')\n",
    "#ipv.save('StraighteningF3.html')\n",
    "ipv.show()\n",
    "\n",
    "#Fig 2 - 50 PC points\n",
    "fig = ipv.figure()\n",
    "scatter = ipv.scatter(PC50[0],PC50[1],PC50[2],marker = 'sphere', color = 'yellow')\n",
    "#ipv.save('StraighteningF4.html')\n",
    "ipv.show()\n",
    "\n",
    "#Fig 3 - PC points with axes\n",
    "fig = ipv.figure()\n",
    "scatter = ipv.scatter(PC50[0],PC50[1],PC50[2],marker = 'sphere', color = 'yellow')\n",
    "quiver = ipv.quiver(PC50[0],PC50[1],PC50[2],xx,xy,xz, size = 4)\n",
    "quiver = ipv.quiver(PC50[0],PC50[1],PC50[2],yx,yy,yz, size = 4)\n",
    "quiver = ipv.quiver(PC50[0],PC50[1],PC50[2],zx,zy,zz, size = 4)\n",
    "#ipv.save('StraighteningF5.html')\n",
    "ipv.show()\n",
    "\n",
    "#Fig - Straightened \n",
    "fig = ipv.figure()\n",
    "ipv.style.use('dark')\n",
    "scatter = ipv.scatter(StraightRNP[0],StraightRNP[1],StraightRNP[2],marker = 'sphere', color = 'green')\n",
    "ipv.show()\n"
   ]
  },
  {
   "cell_type": "code",
   "execution_count": 6,
   "metadata": {
    "scrolled": false
   },
   "outputs": [],
   "source": []
  },
  {
   "cell_type": "code",
   "execution_count": null,
   "metadata": {},
   "outputs": [],
   "source": []
  }
 ],
 "metadata": {
  "kernelspec": {
   "display_name": "Python 3",
   "language": "python",
   "name": "python3"
  },
  "language_info": {
   "codemirror_mode": {
    "name": "ipython",
    "version": 3
   },
   "file_extension": ".py",
   "mimetype": "text/x-python",
   "name": "python",
   "nbconvert_exporter": "python",
   "pygments_lexer": "ipython3",
   "version": "3.6.5"
  }
 },
 "nbformat": 4,
 "nbformat_minor": 2
}
